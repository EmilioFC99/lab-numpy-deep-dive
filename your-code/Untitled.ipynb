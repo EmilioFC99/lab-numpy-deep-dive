{
 "cells": [
  {
   "cell_type": "code",
   "execution_count": 1,
   "metadata": {},
   "outputs": [],
   "source": [
    "import numpy as np"
   ]
  },
  {
   "cell_type": "code",
   "execution_count": 2,
   "metadata": {},
   "outputs": [],
   "source": [
    "a = np.random.random((2,3,5))"
   ]
  },
  {
   "cell_type": "code",
   "execution_count": 3,
   "metadata": {},
   "outputs": [
    {
     "data": {
      "text/plain": [
       "(2, 3, 5)"
      ]
     },
     "execution_count": 3,
     "metadata": {},
     "output_type": "execute_result"
    }
   ],
   "source": [
    "a.shape"
   ]
  },
  {
   "cell_type": "code",
   "execution_count": 4,
   "metadata": {},
   "outputs": [],
   "source": [
    "b = np.ones((5,2,3),dtype = int)"
   ]
  },
  {
   "cell_type": "code",
   "execution_count": 5,
   "metadata": {},
   "outputs": [
    {
     "data": {
      "text/plain": [
       "(5, 2, 3)"
      ]
     },
     "execution_count": 5,
     "metadata": {},
     "output_type": "execute_result"
    }
   ],
   "source": [
    "b.shape"
   ]
  },
  {
   "cell_type": "code",
   "execution_count": 6,
   "metadata": {},
   "outputs": [
    {
     "data": {
      "text/plain": [
       "True"
      ]
     },
     "execution_count": 6,
     "metadata": {},
     "output_type": "execute_result"
    }
   ],
   "source": [
    "a.size == b.size"
   ]
  },
  {
   "cell_type": "code",
   "execution_count": 10,
   "metadata": {},
   "outputs": [],
   "source": [
    "c = np.transpose(b)"
   ]
  },
  {
   "cell_type": "code",
   "execution_count": 11,
   "metadata": {},
   "outputs": [
    {
     "data": {
      "text/plain": [
       "(3, 2, 5)"
      ]
     },
     "execution_count": 11,
     "metadata": {},
     "output_type": "execute_result"
    }
   ],
   "source": [
    "c.shape"
   ]
  },
  {
   "cell_type": "code",
   "execution_count": 12,
   "metadata": {},
   "outputs": [],
   "source": [
    "c = c.reshape(2,3,5)"
   ]
  },
  {
   "cell_type": "code",
   "execution_count": 13,
   "metadata": {},
   "outputs": [],
   "source": [
    "d = a+c"
   ]
  },
  {
   "cell_type": "code",
   "execution_count": 14,
   "metadata": {},
   "outputs": [
    {
     "name": "stdout",
     "output_type": "stream",
     "text": [
      "a\n",
      " [[[0.90589878 0.71397314 0.36259274 0.60192247 0.99723914]\n",
      "  [0.72420824 0.280621   0.30630123 0.50242262 0.8181086 ]\n",
      "  [0.79281955 0.69096084 0.38134782 0.25808226 0.45211699]]\n",
      "\n",
      " [[0.49162923 0.44437415 0.67593478 0.0126416  0.37036696]\n",
      "  [0.36644787 0.89746476 0.39763571 0.62760919 0.36004284]\n",
      "  [0.18530403 0.55623401 0.08212927 0.00580582 0.23289312]]] \n",
      "\n",
      "d\n",
      " [[[1.90589878 1.71397314 1.36259274 1.60192247 1.99723914]\n",
      "  [1.72420824 1.280621   1.30630123 1.50242262 1.8181086 ]\n",
      "  [1.79281955 1.69096084 1.38134782 1.25808226 1.45211699]]\n",
      "\n",
      " [[1.49162923 1.44437415 1.67593478 1.0126416  1.37036696]\n",
      "  [1.36644787 1.89746476 1.39763571 1.62760919 1.36004284]\n",
      "  [1.18530403 1.55623401 1.08212927 1.00580582 1.23289312]]]\n"
     ]
    }
   ],
   "source": [
    "print(\"a\\n\",a,\"\\n\")\n",
    "print(\"d\\n\",d)"
   ]
  },
  {
   "cell_type": "code",
   "execution_count": 15,
   "metadata": {},
   "outputs": [],
   "source": [
    "#12. Multiply a and c. Assign the result to e.\n",
    "e = a * c"
   ]
  },
  {
   "cell_type": "code",
   "execution_count": 16,
   "metadata": {},
   "outputs": [
    {
     "data": {
      "text/plain": [
       "array([[[0.90589878, 0.71397314, 0.36259274, 0.60192247, 0.99723914],\n",
       "        [0.72420824, 0.280621  , 0.30630123, 0.50242262, 0.8181086 ],\n",
       "        [0.79281955, 0.69096084, 0.38134782, 0.25808226, 0.45211699]],\n",
       "\n",
       "       [[0.49162923, 0.44437415, 0.67593478, 0.0126416 , 0.37036696],\n",
       "        [0.36644787, 0.89746476, 0.39763571, 0.62760919, 0.36004284],\n",
       "        [0.18530403, 0.55623401, 0.08212927, 0.00580582, 0.23289312]]])"
      ]
     },
     "execution_count": 16,
     "metadata": {},
     "output_type": "execute_result"
    }
   ],
   "source": [
    "e"
   ]
  },
  {
   "cell_type": "code",
   "execution_count": 17,
   "metadata": {},
   "outputs": [
    {
     "data": {
      "text/plain": [
       "array([[[0.90589878, 0.71397314, 0.36259274, 0.60192247, 0.99723914],\n",
       "        [0.72420824, 0.280621  , 0.30630123, 0.50242262, 0.8181086 ],\n",
       "        [0.79281955, 0.69096084, 0.38134782, 0.25808226, 0.45211699]],\n",
       "\n",
       "       [[0.49162923, 0.44437415, 0.67593478, 0.0126416 , 0.37036696],\n",
       "        [0.36644787, 0.89746476, 0.39763571, 0.62760919, 0.36004284],\n",
       "        [0.18530403, 0.55623401, 0.08212927, 0.00580582, 0.23289312]]])"
      ]
     },
     "execution_count": 17,
     "metadata": {},
     "output_type": "execute_result"
    }
   ],
   "source": [
    "a"
   ]
  },
  {
   "cell_type": "code",
   "execution_count": 18,
   "metadata": {},
   "outputs": [
    {
     "name": "stdout",
     "output_type": "stream",
     "text": [
      "Does e equal to a? True\n"
     ]
    }
   ],
   "source": [
    "print(f\"Does e equal to a? {np.all(e == a)}\") \n",
    "#the same as sum just that they are multiplying each value"
   ]
  },
  {
   "cell_type": "code",
   "execution_count": 19,
   "metadata": {},
   "outputs": [],
   "source": [
    "d_max =  np.max(d)\n",
    "d_min = np.min(d)\n",
    "d_mean = np.mean(d)"
   ]
  },
  {
   "cell_type": "code",
   "execution_count": 30,
   "metadata": {},
   "outputs": [],
   "source": [
    "f = np.empty(d.shape)"
   ]
  },
  {
   "cell_type": "code",
   "execution_count": 31,
   "metadata": {},
   "outputs": [
    {
     "data": {
      "text/plain": [
       "(2, 3, 5)"
      ]
     },
     "execution_count": 31,
     "metadata": {},
     "output_type": "execute_result"
    }
   ],
   "source": [
    "f.shape"
   ]
  },
  {
   "cell_type": "code",
   "execution_count": 32,
   "metadata": {},
   "outputs": [
    {
     "name": "stdout",
     "output_type": "stream",
     "text": [
      "[[[0.90589878 0.71397314 0.36259274 0.60192247 0.99723914]\n",
      "  [0.72420824 0.280621   0.30630123 0.50242262 0.8181086 ]\n",
      "  [0.79281955 0.69096084 0.38134782 0.25808226 0.45211699]]\n",
      "\n",
      " [[0.49162923 0.44437415 0.67593478 0.0126416  0.37036696]\n",
      "  [0.36644787 0.89746476 0.39763571 0.62760919 0.36004284]\n",
      "  [0.18530403 0.55623401 0.08212927 0.00580582 0.23289312]]]\n"
     ]
    }
   ],
   "source": [
    "print(f)"
   ]
  },
  {
   "cell_type": "markdown",
   "metadata": {},
   "source": [
    "#16. Populate the values in f. For each value in d, if it's larger than d_min but smaller than d_mean, assign 25 to the corresponding value in f.\n",
    "If a value in d is larger than d_mean but smaller than d_max, assign 75 to the corresponding value in f.\n",
    "If a value equals to d_mean, assign 50 to the corresponding value in f.\n",
    "Assign 0 to the corresponding value(s) in f for d_min in d.\n",
    "Assign 100 to the corresponding value(s) in f for d_max in d.\n",
    "In the end, f should have only the following values: 0, 25, 50, 75, and 100.\n",
    "Note: you don't have to use Numpy in this question."
   ]
  },
  {
   "cell_type": "code",
   "execution_count": 20,
   "metadata": {},
   "outputs": [
    {
     "name": "stdout",
     "output_type": "stream",
     "text": [
      "1.9972391449134723 1.005805818186872 1.4831709585958386\n"
     ]
    }
   ],
   "source": [
    "print(d_max, d_min, d_mean)"
   ]
  },
  {
   "cell_type": "code",
   "execution_count": 64,
   "metadata": {},
   "outputs": [
    {
     "name": "stdout",
     "output_type": "stream",
     "text": [
      "[[[ 75.  75.  25.  75. 100.]\n",
      "  [ 75.  25.  25.  75.  75.]\n",
      "  [ 75.  75.  25.  25.  25.]]\n",
      "\n",
      " [[ 75.  25.  75.  25.  25.]\n",
      "  [ 25.  75.  25.  75.  25.]\n",
      "  [ 25.  75.  25.   0.  25.]]]\n"
     ]
    }
   ],
   "source": [
    "for i in range(2):\n",
    "    for j in range(3):\n",
    "        for k in range (5):\n",
    "            value = d[i,j,k]\n",
    "            if value > d_min and value < d_mean: f[i,j,k] = 25\n",
    "            elif value > d_mean and value < d_max: f[i,j,k] = 75\n",
    "            elif value == d_mean: f[i,j,k] = 50\n",
    "            elif value == d_min: f[i,j,k] = 0\n",
    "            elif value == d_max: f[i,j,k] = 100\n",
    "                \n",
    "print(f)"
   ]
  },
  {
   "cell_type": "markdown",
   "metadata": {},
   "source": [
    "#17. Print d and f. Do you have your expected f?\n",
    "For instance, if your d is:\n",
    "array([[[1.85836099, 1.67064465, 1.62576044, 1.40243961, 1.88454931],\n",
    "        [1.75354326, 1.69403643, 1.36729252, 1.61415071, 1.12104981],\n",
    "        [1.72201435, 1.1862918 , 1.87078449, 1.7726778 , 1.88180042]],\n",
    "\n",
    "       [[1.44747908, 1.31673383, 1.02000951, 1.52218947, 1.97066381],\n",
    "        [1.79129243, 1.74983003, 1.96028037, 1.85166831, 1.65450881],\n",
    "        [1.18068344, 1.9587381 , 1.00656599, 1.93402165, 1.73514584]]])\n",
    "\n",
    "Your f should be:\n",
    "        ([[[ 75.,  75.,  75.,  25.,  75.],\n",
    "        [ 75.,  75.,  25.,  25.,  25.],\n",
    "        [ 75.,  25.,  75.,  75.,  75.]]\n",
    "\n",
    "       [[ 25.,  25.,  25.,  25., 100.],\n",
    "        [ 75.,  75.,  75.,  75.,  75.],\n",
    "        [ 25.,  75.,   0.,  75.,  75.]]])"
   ]
  },
  {
   "cell_type": "code",
   "execution_count": 60,
   "metadata": {},
   "outputs": [
    {
     "name": "stdout",
     "output_type": "stream",
     "text": [
      "d [[[1.90589878 1.71397314 1.36259274 1.60192247 1.99723914]\n",
      "  [1.72420824 1.280621   1.30630123 1.50242262 1.8181086 ]\n",
      "  [1.79281955 1.69096084 1.38134782 1.25808226 1.45211699]]\n",
      "\n",
      " [[1.49162923 1.44437415 1.67593478 1.0126416  1.37036696]\n",
      "  [1.36644787 1.89746476 1.39763571 1.62760919 1.36004284]\n",
      "  [1.18530403 1.55623401 1.08212927 1.00580582 1.23289312]]] \n",
      "\n",
      "f [[[7.50000000e+01 7.50000000e+01 3.62592739e-01 7.50000000e+01\n",
      "   1.00000000e+02]\n",
      "  [7.50000000e+01 2.80620996e-01 3.06301227e-01 7.50000000e+01\n",
      "   7.50000000e+01]\n",
      "  [7.50000000e+01 7.50000000e+01 3.81347820e-01 2.58082258e-01\n",
      "   4.52116989e-01]]\n",
      "\n",
      " [[7.50000000e+01 4.44374149e-01 7.50000000e+01 1.26415996e-02\n",
      "   3.70366963e-01]\n",
      "  [3.66447871e-01 7.50000000e+01 3.97635711e-01 7.50000000e+01\n",
      "   3.60042837e-01]\n",
      "  [1.85304028e-01 7.50000000e+01 8.21292749e-02 0.00000000e+00\n",
      "   2.32893124e-01]]] \n",
      "\n"
     ]
    }
   ],
   "source": [
    "print(\"d\",d,'\\n')\n",
    "print(\"f\",f,'\\n')"
   ]
  },
  {
   "cell_type": "markdown",
   "metadata": {},
   "source": [
    "#18. Bonus question: instead of using numbers (i.e. 0, 25, 50, 75, and 100), how to use string values \n",
    "(\"A\", \"B\", \"C\", \"D\", and \"E\") to label the array elements? You are expecting the result to be:\n",
    "array([[[ 'D',  'D',  'D',  'B',  'D'],\n",
    "        [ 'D',  'D',  'B',  'B',  'B'],\n",
    "        [ 'D',  'B',  'D',  'D',  'D']],\n",
    "\n",
    "       [[ 'B',  'B',  'B',  'B',  'E'],\n",
    "        [ 'D',  'D',  'D',  'D',  'D'],\n",
    "        [ 'B',  'D',   'A',  'D', 'D']]])\n",
    "Again, you don't need Numpy in this question."
   ]
  },
  {
   "cell_type": "code",
   "execution_count": 67,
   "metadata": {},
   "outputs": [
    {
     "name": "stdout",
     "output_type": "stream",
     "text": [
      "[[['B' 'B' 'A' 'B' 'E']\n",
      "  ['B' 'A' 'A' 'B' 'B']\n",
      "  ['B' 'B' 'A' 'A' 'A']]\n",
      "\n",
      " [['B' 'A' 'B' 'A' 'A']\n",
      "  ['A' 'B' 'A' 'B' 'A']\n",
      "  ['A' 'B' 'A' 'D' 'A']]]\n"
     ]
    }
   ],
   "source": [
    "f = np.empty(d.shape, dtype = str)\n",
    "\n",
    "for i in range(2):\n",
    "    for j in range(3):\n",
    "        for k in range (5):\n",
    "            value = d[i,j,k]\n",
    "            if value > d_min and value < d_mean: f[i,j,k] = 'A'\n",
    "            elif value > d_mean and value < d_max: f[i,j,k] = 'B'\n",
    "            elif value == d_mean: f[i,j,k] = 'C'\n",
    "            elif value == d_min: f[i,j,k] = 'D'\n",
    "            elif value == d_max: f[i,j,k] = 'E'\n",
    "                \n",
    "print(f)"
   ]
  },
  {
   "cell_type": "code",
   "execution_count": null,
   "metadata": {},
   "outputs": [],
   "source": []
  }
 ],
 "metadata": {
  "kernelspec": {
   "display_name": "Python 3.7 (tensorflow)",
   "language": "python",
   "name": "tensorflow"
  },
  "language_info": {
   "codemirror_mode": {
    "name": "ipython",
    "version": 3
   },
   "file_extension": ".py",
   "mimetype": "text/x-python",
   "name": "python",
   "nbconvert_exporter": "python",
   "pygments_lexer": "ipython3",
   "version": "3.7.7"
  }
 },
 "nbformat": 4,
 "nbformat_minor": 4
}
